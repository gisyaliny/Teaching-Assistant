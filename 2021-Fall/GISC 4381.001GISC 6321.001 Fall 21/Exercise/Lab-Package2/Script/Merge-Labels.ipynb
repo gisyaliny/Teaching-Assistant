{
 "cells": [
  {
   "cell_type": "markdown",
   "id": "45b71afb",
   "metadata": {
    "toc": true
   },
   "source": [
    "<h1>Table of Contents<span class=\"tocSkip\"></span></h1>\n",
    "<div class=\"toc\"><ul class=\"toc-item\"><li><span><a href=\"#Read-data\" data-toc-modified-id=\"Read-data-1\"><span class=\"toc-item-num\">1&nbsp;&nbsp;</span>Read data</a></span></li><li><span><a href=\"#Prepare-Labels\" data-toc-modified-id=\"Prepare-Labels-2\"><span class=\"toc-item-num\">2&nbsp;&nbsp;</span>Prepare Labels</a></span><ul class=\"toc-item\"><li><span><a href=\"#Number-of-images-have-buildings\" data-toc-modified-id=\"Number-of-images-have-buildings-2.1\"><span class=\"toc-item-num\">2.1&nbsp;&nbsp;</span>Number of images have buildings</a></span></li><li><span><a href=\"#Remove-images-not-(64,64,3)-shape\" data-toc-modified-id=\"Remove-images-not-(64,64,3)-shape-2.2\"><span class=\"toc-item-num\">2.2&nbsp;&nbsp;</span>Remove images not (64,64,3) shape</a></span></li></ul></li></ul></div>"
   ]
  },
  {
   "cell_type": "markdown",
   "id": "d540cf47",
   "metadata": {},
   "source": [
    "## Read data"
   ]
  },
  {
   "cell_type": "code",
   "execution_count": 1,
   "id": "e5275738",
   "metadata": {},
   "outputs": [],
   "source": [
    "import pandas as pd\n",
    "import numpy as np\n",
    "import matplotlib.pyplot as plt\n",
    "import os,glob"
   ]
  },
  {
   "cell_type": "code",
   "execution_count": 2,
   "id": "d5d61ba9",
   "metadata": {},
   "outputs": [
    {
     "data": {
      "text/plain": [
       "178374"
      ]
     },
     "execution_count": 2,
     "metadata": {},
     "output_type": "execute_result"
    }
   ],
   "source": [
    "excel_dir = '../'\n",
    "image_dir = '../Data/img/Split-Raster'\n",
    "pattern = '*.TIF'\n",
    "img_lst = glob.glob(os.path.join(image_dir,pattern))\n",
    "len(img_lst)"
   ]
  },
  {
   "cell_type": "code",
   "execution_count": 3,
   "id": "a017b7d3",
   "metadata": {},
   "outputs": [
    {
     "name": "stdout",
     "output_type": "stream",
     "text": [
      "Wall time: 31.7 ms\n"
     ]
    }
   ],
   "source": [
    "%%time \n",
    "img = plt.imread(img_lst[0])"
   ]
  },
  {
   "cell_type": "code",
   "execution_count": 4,
   "id": "6c0dbea9",
   "metadata": {},
   "outputs": [
    {
     "name": "stdout",
     "output_type": "stream",
     "text": [
      "(64, 64, 3)\n"
     ]
    },
    {
     "data": {
      "text/plain": [
       "<matplotlib.image.AxesImage at 0x1900dadd7f0>"
      ]
     },
     "execution_count": 4,
     "metadata": {},
     "output_type": "execute_result"
    },
    {
     "data": {
      "image/png": "[encoded data removed]",
      "text/plain": [
       "<Figure size 432x288 with 1 Axes>"
      ]
     },
     "metadata": {
      "needs_background": "light"
     },
     "output_type": "display_data"
    }
   ],
   "source": [
    "print(img.shape)\n",
    "plt.imshow(img)"
   ]
  },
  {
   "cell_type": "code",
   "execution_count": 5,
   "id": "d3ac457d",
   "metadata": {},
   "outputs": [
    {
     "data": {
      "text/plain": [
       "array([[[ 38,  50,  51],\n",
       "        [ 38,  49,  50],\n",
       "        [ 38,  48,  50],\n",
       "        ...,\n",
       "        [ 95, 102, 102],\n",
       "        [ 94, 101, 102],\n",
       "        [ 92, 100, 100]],\n",
       "\n",
       "       [[ 40,  52,  52],\n",
       "        [ 40,  50,  50],\n",
       "        [ 39,  49,  49],\n",
       "        ...,\n",
       "        [ 96, 103, 102],\n",
       "        [ 95, 102, 102],\n",
       "        [ 94, 100, 100]],\n",
       "\n",
       "       [[ 38,  50,  49],\n",
       "        [ 38,  48,  48],\n",
       "        [ 38,  47,  46],\n",
       "        ...,\n",
       "        [ 95, 102, 100],\n",
       "        [ 92,  99,  99],\n",
       "        [ 90,  96,  96]],\n",
       "\n",
       "       ...,\n",
       "\n",
       "       [[ 32,  44,  43],\n",
       "        [ 30,  42,  40],\n",
       "        [ 28,  40,  37],\n",
       "        ...,\n",
       "        [ 48,  62,  50],\n",
       "        [ 49,  64,  50],\n",
       "        [ 46,  60,  48]],\n",
       "\n",
       "       [[ 32,  45,  42],\n",
       "        [ 32,  44,  41],\n",
       "        [ 31,  44,  40],\n",
       "        ...,\n",
       "        [ 58,  73,  58],\n",
       "        [ 62,  78,  62],\n",
       "        [ 56,  71,  56]],\n",
       "\n",
       "       [[ 32,  46,  42],\n",
       "        [ 33,  47,  42],\n",
       "        [ 34,  48,  42],\n",
       "        ...,\n",
       "        [ 68,  83,  66],\n",
       "        [ 75,  91,  73],\n",
       "        [ 66,  81,  64]]], dtype=uint8)"
      ]
     },
     "execution_count": 5,
     "metadata": {},
     "output_type": "execute_result"
    }
   ],
   "source": [
    "img"
   ]
  },
  {
   "cell_type": "markdown",
   "id": "76c97c9e",
   "metadata": {},
   "source": [
    "## Prepare Labels"
   ]
  },
  {
   "cell_type": "code",
   "execution_count": 6,
   "id": "6d79b138",
   "metadata": {},
   "outputs": [
    {
     "data": {
      "text/plain": [
       "['..\\\\Labeled-proc0.xlsx',\n",
       " '..\\\\Labeled-proc1.xlsx',\n",
       " '..\\\\Labeled-proc10.xlsx',\n",
       " '..\\\\Labeled-proc11.xlsx',\n",
       " '..\\\\Labeled-proc12.xlsx']"
      ]
     },
     "execution_count": 6,
     "metadata": {},
     "output_type": "execute_result"
    }
   ],
   "source": [
    "pattern  = '*.xlsx'\n",
    "excel_lst = glob.glob(os.path.join(excel_dir,pattern))\n",
    "excel_lst[:5]"
   ]
  },
  {
   "cell_type": "code",
   "execution_count": 7,
   "id": "b82536bb",
   "metadata": {},
   "outputs": [
    {
     "data": {
      "text/html": [
       "<div>\n",
       "<style scoped>\n",
       "    .dataframe tbody tr th:only-of-type {\n",
       "        vertical-align: middle;\n",
       "    }\n",
       "\n",
       "    .dataframe tbody tr th {\n",
       "        vertical-align: top;\n",
       "    }\n",
       "\n",
       "    .dataframe thead th {\n",
       "        text-align: right;\n",
       "    }\n",
       "</style>\n",
       "<table border=\"1\" class=\"dataframe\">\n",
       "  <thead>\n",
       "    <tr style=\"text-align: right;\">\n",
       "      <th></th>\n",
       "      <th>Unnamed: 0</th>\n",
       "      <th>file_name</th>\n",
       "      <th>y_label</th>\n",
       "    </tr>\n",
       "  </thead>\n",
       "  <tbody>\n",
       "    <tr>\n",
       "      <th>0</th>\n",
       "      <td>0</td>\n",
       "      <td>Cliped-Dallas-Img0.TIF</td>\n",
       "      <td>True</td>\n",
       "    </tr>\n",
       "    <tr>\n",
       "      <th>1</th>\n",
       "      <td>1</td>\n",
       "      <td>Cliped-Dallas-Img1.TIF</td>\n",
       "      <td>True</td>\n",
       "    </tr>\n",
       "    <tr>\n",
       "      <th>2</th>\n",
       "      <td>2</td>\n",
       "      <td>Cliped-Dallas-Img10.TIF</td>\n",
       "      <td>True</td>\n",
       "    </tr>\n",
       "    <tr>\n",
       "      <th>3</th>\n",
       "      <td>3</td>\n",
       "      <td>Cliped-Dallas-Img100.TIF</td>\n",
       "      <td>False</td>\n",
       "    </tr>\n",
       "    <tr>\n",
       "      <th>4</th>\n",
       "      <td>4</td>\n",
       "      <td>Cliped-Dallas-Img1000.TIF</td>\n",
       "      <td>True</td>\n",
       "    </tr>\n",
       "  </tbody>\n",
       "</table>\n",
       "</div>"
      ],
      "text/plain": [
       "   Unnamed: 0                  file_name  y_label\n",
       "0           0     Cliped-Dallas-Img0.TIF     True\n",
       "1           1     Cliped-Dallas-Img1.TIF     True\n",
       "2           2    Cliped-Dallas-Img10.TIF     True\n",
       "3           3   Cliped-Dallas-Img100.TIF    False\n",
       "4           4  Cliped-Dallas-Img1000.TIF     True"
      ]
     },
     "execution_count": 7,
     "metadata": {},
     "output_type": "execute_result"
    }
   ],
   "source": [
    "df = pd.read_excel(excel_lst[0])\n",
    "df.head()"
   ]
  },
  {
   "cell_type": "code",
   "execution_count": 8,
   "id": "e12a71dd",
   "metadata": {},
   "outputs": [
    {
     "name": "stdout",
     "output_type": "stream",
     "text": [
      "Wall time: 8.67 s\n"
     ]
    },
    {
     "data": {
      "text/plain": [
       "(178374, 2)"
      ]
     },
     "execution_count": 8,
     "metadata": {},
     "output_type": "execute_result"
    }
   ],
   "source": [
    "%%time\n",
    "for table in excel_lst[1:]:\n",
    "    df_new = pd.read_excel(table)\n",
    "    df = pd.concat([df,df_new])\n",
    "del df['Unnamed: 0']\n",
    "df.drop_duplicates(inplace=True)\n",
    "df.shape"
   ]
  },
  {
   "cell_type": "markdown",
   "id": "022c6750",
   "metadata": {},
   "source": [
    "### Number of images have buildings"
   ]
  },
  {
   "cell_type": "code",
   "execution_count": 9,
   "id": "b4972889",
   "metadata": {},
   "outputs": [
    {
     "data": {
      "text/plain": [
       "99997"
      ]
     },
     "execution_count": 9,
     "metadata": {},
     "output_type": "execute_result"
    }
   ],
   "source": [
    "df.y_label.sum()"
   ]
  },
  {
   "cell_type": "code",
   "execution_count": 10,
   "id": "961e804e",
   "metadata": {},
   "outputs": [
    {
     "name": "stdout",
     "output_type": "stream",
     "text": [
      "Wall time: 333 ms\n"
     ]
    }
   ],
   "source": [
    "# %%time\n",
    "# img_training = [plt.imread(os.path.join(image_dir,x)) for x in df.file_name[:200]]\n",
    "# img_testing = [plt.imread(os.path.join(image_dir,x)) for x in df.file_name[201:400]]"
   ]
  },
  {
   "cell_type": "markdown",
   "id": "2bd972bc",
   "metadata": {},
   "source": [
    "### Remove images not (64,64,3) shape"
   ]
  },
  {
   "cell_type": "code",
   "execution_count": 11,
   "id": "ea0a2ad2",
   "metadata": {},
   "outputs": [
    {
     "name": "stdout",
     "output_type": "stream",
     "text": [
      "Wall time: 4min 44s\n"
     ]
    }
   ],
   "source": [
    "%%time\n",
    "singular_lst = []\n",
    "for x in df.file_name:\n",
    "    img = plt.imread(os.path.join(image_dir,x))\n",
    "    if img.shape != (64,64,3):\n",
    "        singular_lst.append(x)"
   ]
  },
  {
   "cell_type": "code",
   "execution_count": 12,
   "id": "5995a4fd",
   "metadata": {},
   "outputs": [
    {
     "data": {
      "text/plain": [
       "342"
      ]
     },
     "execution_count": 12,
     "metadata": {},
     "output_type": "execute_result"
    }
   ],
   "source": [
    "len(singular_lst)"
   ]
  },
  {
   "cell_type": "code",
   "execution_count": 13,
   "id": "0a3665c8",
   "metadata": {},
   "outputs": [
    {
     "data": {
      "text/plain": [
       "[40, 618, 1197, 1775, 2355]"
      ]
     },
     "execution_count": 13,
     "metadata": {},
     "output_type": "execute_result"
    }
   ],
   "source": [
    "index_lst = [index for index,x in enumerate(df.file_name) if x in singular_lst]\n",
    "index_lst[:5]"
   ]
  },
  {
   "cell_type": "code",
   "execution_count": 14,
   "id": "91500223",
   "metadata": {},
   "outputs": [],
   "source": [
    "new_df = df.drop(df.index[index_lst])"
   ]
  },
  {
   "cell_type": "code",
   "execution_count": 15,
   "id": "50bdd806",
   "metadata": {},
   "outputs": [
    {
     "data": {
      "text/plain": [
       "(173244, 2)"
      ]
     },
     "execution_count": 15,
     "metadata": {},
     "output_type": "execute_result"
    }
   ],
   "source": [
    "new_df.shape"
   ]
  },
  {
   "cell_type": "code",
   "execution_count": 16,
   "id": "75efd3df",
   "metadata": {},
   "outputs": [],
   "source": [
    "compression_opts = dict(method='zip',archive_name='out.csv')  \n",
    "new_df.to_csv('out.zip',compression=compression_opts) "
   ]
  },
  {
   "cell_type": "code",
   "execution_count": null,
   "id": "0d50fb81",
   "metadata": {},
   "outputs": [],
   "source": []
  }
 ],
 "metadata": {
  "interpreter": {
   "hash": "a8f61be024eba58adef938c9aa1e29e02cb3dece83a5348b1a2dafd16a070453"
  },
  "kernelspec": {
   "display_name": "Python 3 (ipykernel)",
   "language": "python",
   "name": "python3"
  },
  "language_info": {
   "codemirror_mode": {
    "name": "ipython",
    "version": 3
   },
   "file_extension": ".py",
   "mimetype": "text/x-python",
   "name": "python",
   "nbconvert_exporter": "python",
   "pygments_lexer": "ipython3",
   "version": "3.8.11"
  },
  "toc": {
   "base_numbering": 1,
   "nav_menu": {},
   "number_sections": true,
   "sideBar": true,
   "skip_h1_title": true,
   "title_cell": "Table of Contents",
   "title_sidebar": "Contents",
   "toc_cell": true,
   "toc_position": {
    "height": "calc(100% - 180px)",
    "left": "10px",
    "top": "150px",
    "width": "512px"
   },
   "toc_section_display": true,
   "toc_window_display": true
  }
 },
 "nbformat": 4,
 "nbformat_minor": 5
}
