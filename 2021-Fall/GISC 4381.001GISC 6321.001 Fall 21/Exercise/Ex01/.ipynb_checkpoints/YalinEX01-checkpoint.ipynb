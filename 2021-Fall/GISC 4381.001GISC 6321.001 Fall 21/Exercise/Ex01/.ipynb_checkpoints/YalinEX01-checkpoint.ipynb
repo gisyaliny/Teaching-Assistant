{
 "cells": [
  {
   "cell_type": "code",
   "execution_count": 1,
   "id": "5c1bb8dd",
   "metadata": {},
   "outputs": [],
   "source": [
    "import pandas as pd\n",
    "from lxml import etree\n",
    "import requests\n",
    "import lxml.html"
   ]
  },
  {
   "cell_type": "code",
   "execution_count": 2,
   "id": "4b34e28e",
   "metadata": {},
   "outputs": [
    {
     "data": {
      "text/html": [
       "<div>\n",
       "<style scoped>\n",
       "    .dataframe tbody tr th:only-of-type {\n",
       "        vertical-align: middle;\n",
       "    }\n",
       "\n",
       "    .dataframe tbody tr th {\n",
       "        vertical-align: top;\n",
       "    }\n",
       "\n",
       "    .dataframe thead th {\n",
       "        text-align: right;\n",
       "    }\n",
       "</style>\n",
       "<table border=\"1\" class=\"dataframe\">\n",
       "  <thead>\n",
       "    <tr style=\"text-align: right;\">\n",
       "      <th></th>\n",
       "      <th>Service Request Number</th>\n",
       "      <th>Address</th>\n",
       "      <th>City Council District</th>\n",
       "      <th>Department</th>\n",
       "      <th>Service Request Type</th>\n",
       "      <th>ERT (Estimated Response Time)</th>\n",
       "      <th>Overall Service Request Due Date</th>\n",
       "      <th>Status</th>\n",
       "      <th>Created Date</th>\n",
       "      <th>Update Date</th>\n",
       "      <th>Closed Date</th>\n",
       "      <th>Outcome</th>\n",
       "      <th>Priority</th>\n",
       "      <th>Method Received Description</th>\n",
       "      <th>Unique Key</th>\n",
       "      <th>Lat_Long Location</th>\n",
       "    </tr>\n",
       "  </thead>\n",
       "  <tbody>\n",
       "    <tr>\n",
       "      <th>0</th>\n",
       "      <td>21-00305557</td>\n",
       "      <td>18476 MIDWAY RD, DALLAS, TX, 75287</td>\n",
       "      <td>12</td>\n",
       "      <td>Transportation</td>\n",
       "      <td>Guardrail - New - TRN</td>\n",
       "      <td>10 Business Days</td>\n",
       "      <td>06/09/2021 11:59:00 PM</td>\n",
       "      <td>Closed</td>\n",
       "      <td>04/06/2021 11:18:01 AM</td>\n",
       "      <td>04/27/2021 05:08:50 PM</td>\n",
       "      <td>04/06/2021 11:18:01 AM</td>\n",
       "      <td>Information Provided</td>\n",
       "      <td>Standard</td>\n",
       "      <td>API</td>\n",
       "      <td>500t000000jw1FyAAI</td>\n",
       "      <td>(33.00277709316475000,-96.84332884334131000)</td>\n",
       "    </tr>\n",
       "    <tr>\n",
       "      <th>1</th>\n",
       "      <td>21-00120079</td>\n",
       "      <td>7326 LONG CANYON TRL, DALLAS, TX, 75249</td>\n",
       "      <td>3</td>\n",
       "      <td>Dallas Animal Services</td>\n",
       "      <td>Dead Animal Pick Up - DAS</td>\n",
       "      <td>1 Business Days</td>\n",
       "      <td>02/10/2021 12:59:00 AM</td>\n",
       "      <td>Closed</td>\n",
       "      <td>02/08/2021 02:54:04 PM</td>\n",
       "      <td>02/09/2021 11:20:51 AM</td>\n",
       "      <td>02/08/2021 02:54:04 PM</td>\n",
       "      <td>Work Completed</td>\n",
       "      <td>Dispatch</td>\n",
       "      <td>Phone</td>\n",
       "      <td>500t000000gNgUCAA0</td>\n",
       "      <td>(32.63890090904497000,-96.95280343146295000)</td>\n",
       "    </tr>\n",
       "    <tr>\n",
       "      <th>2</th>\n",
       "      <td>20-01122421</td>\n",
       "      <td>13304 RED FERN LN, DALLAS, TX, 75240</td>\n",
       "      <td>11</td>\n",
       "      <td>Dallas Animal Services</td>\n",
       "      <td>Animal Aggressive Behavior - DAS</td>\n",
       "      <td>6 Hours</td>\n",
       "      <td>11/16/2020 12:59:00 AM</td>\n",
       "      <td>Closed</td>\n",
       "      <td>11/14/2020 05:35:38 PM</td>\n",
       "      <td>11/14/2020 06:17:05 PM</td>\n",
       "      <td>11/14/2020 05:35:38 PM</td>\n",
       "      <td>Final Results</td>\n",
       "      <td>Dispatch</td>\n",
       "      <td>Phone</td>\n",
       "      <td>500t000000bmTKoAAM</td>\n",
       "      <td>(32.92965507406486000,-96.77182011512204000)</td>\n",
       "    </tr>\n",
       "    <tr>\n",
       "      <th>3</th>\n",
       "      <td>20-01087203</td>\n",
       "      <td>10419 EPPING LN, DALLAS, TX, 75229</td>\n",
       "      <td>13</td>\n",
       "      <td>Sanitation</td>\n",
       "      <td>Sanitation Missed Recycle - SAN</td>\n",
       "      <td>2 Business Days</td>\n",
       "      <td>11/07/2020 12:59:00 AM</td>\n",
       "      <td>Closed</td>\n",
       "      <td>11/03/2020 08:13:33 AM</td>\n",
       "      <td>11/04/2020 12:19:30 PM</td>\n",
       "      <td>11/03/2020 08:13:33 AM</td>\n",
       "      <td>Investigation Complete</td>\n",
       "      <td>Standard</td>\n",
       "      <td>Phone</td>\n",
       "      <td>500t000000bkDKdAAM</td>\n",
       "      <td>(32.88854894337505600,-96.83199911677954000)</td>\n",
       "    </tr>\n",
       "    <tr>\n",
       "      <th>4</th>\n",
       "      <td>21-00081907</td>\n",
       "      <td>5225 FLEETWOOD OAKS AVE, DALLAS, TX, 75235</td>\n",
       "      <td>2</td>\n",
       "      <td>Transportation</td>\n",
       "      <td>Parking - Report a Violation - TRN</td>\n",
       "      <td>4 Hours</td>\n",
       "      <td>01/30/2021 12:59:00 AM</td>\n",
       "      <td>Closed</td>\n",
       "      <td>01/27/2021 12:02:05 PM</td>\n",
       "      <td>01/28/2021 03:37:55 PM</td>\n",
       "      <td>01/27/2021 12:02:05 PM</td>\n",
       "      <td>Investigation Complete</td>\n",
       "      <td>Standard</td>\n",
       "      <td>Phone</td>\n",
       "      <td>500t000000fdXarAAE</td>\n",
       "      <td>(32.81745925803681000,-96.82982967652659000)</td>\n",
       "    </tr>\n",
       "  </tbody>\n",
       "</table>\n",
       "</div>"
      ],
      "text/plain": [
       "  Service Request Number                                     Address  \\\n",
       "0            21-00305557          18476 MIDWAY RD, DALLAS, TX, 75287   \n",
       "1            21-00120079     7326 LONG CANYON TRL, DALLAS, TX, 75249   \n",
       "2            20-01122421        13304 RED FERN LN, DALLAS, TX, 75240   \n",
       "3            20-01087203          10419 EPPING LN, DALLAS, TX, 75229   \n",
       "4            21-00081907  5225 FLEETWOOD OAKS AVE, DALLAS, TX, 75235   \n",
       "\n",
       "  City Council District              Department  \\\n",
       "0                    12          Transportation   \n",
       "1                     3  Dallas Animal Services   \n",
       "2                    11  Dallas Animal Services   \n",
       "3                    13              Sanitation   \n",
       "4                     2          Transportation   \n",
       "\n",
       "                 Service Request Type ERT (Estimated Response Time)  \\\n",
       "0               Guardrail - New - TRN              10 Business Days   \n",
       "1           Dead Animal Pick Up - DAS               1 Business Days   \n",
       "2    Animal Aggressive Behavior - DAS                       6 Hours   \n",
       "3     Sanitation Missed Recycle - SAN               2 Business Days   \n",
       "4  Parking - Report a Violation - TRN                       4 Hours   \n",
       "\n",
       "  Overall Service Request Due Date  Status            Created Date  \\\n",
       "0           06/09/2021 11:59:00 PM  Closed  04/06/2021 11:18:01 AM   \n",
       "1           02/10/2021 12:59:00 AM  Closed  02/08/2021 02:54:04 PM   \n",
       "2           11/16/2020 12:59:00 AM  Closed  11/14/2020 05:35:38 PM   \n",
       "3           11/07/2020 12:59:00 AM  Closed  11/03/2020 08:13:33 AM   \n",
       "4           01/30/2021 12:59:00 AM  Closed  01/27/2021 12:02:05 PM   \n",
       "\n",
       "              Update Date             Closed Date                 Outcome  \\\n",
       "0  04/27/2021 05:08:50 PM  04/06/2021 11:18:01 AM    Information Provided   \n",
       "1  02/09/2021 11:20:51 AM  02/08/2021 02:54:04 PM          Work Completed   \n",
       "2  11/14/2020 06:17:05 PM  11/14/2020 05:35:38 PM           Final Results   \n",
       "3  11/04/2020 12:19:30 PM  11/03/2020 08:13:33 AM  Investigation Complete   \n",
       "4  01/28/2021 03:37:55 PM  01/27/2021 12:02:05 PM  Investigation Complete   \n",
       "\n",
       "   Priority Method Received Description          Unique Key  \\\n",
       "0  Standard                         API  500t000000jw1FyAAI   \n",
       "1  Dispatch                       Phone  500t000000gNgUCAA0   \n",
       "2  Dispatch                       Phone  500t000000bmTKoAAM   \n",
       "3  Standard                       Phone  500t000000bkDKdAAM   \n",
       "4  Standard                       Phone  500t000000fdXarAAE   \n",
       "\n",
       "                              Lat_Long Location  \n",
       "0  (33.00277709316475000,-96.84332884334131000)  \n",
       "1  (32.63890090904497000,-96.95280343146295000)  \n",
       "2  (32.92965507406486000,-96.77182011512204000)  \n",
       "3  (32.88854894337505600,-96.83199911677954000)  \n",
       "4  (32.81745925803681000,-96.82982967652659000)  "
      ]
     },
     "execution_count": 2,
     "metadata": {},
     "output_type": "execute_result"
    }
   ],
   "source": [
    "df = pd.read_csv('311_Service_Requests_October_1__2020_to_Present.csv')\n",
    "df.head()"
   ]
  },
  {
   "cell_type": "code",
   "execution_count": 16,
   "id": "a8b8368a",
   "metadata": {},
   "outputs": [],
   "source": [
    "df['Service Request Type'] = df['Service Request Type'].map(lambda x: x.capitalize())"
   ]
  },
  {
   "cell_type": "code",
   "execution_count": 17,
   "id": "3b7eb23f",
   "metadata": {},
   "outputs": [
    {
     "data": {
      "text/plain": [
       "202"
      ]
     },
     "execution_count": 17,
     "metadata": {},
     "output_type": "execute_result"
    }
   ],
   "source": [
    "len(set(df['Service Request Type']))"
   ]
  },
  {
   "cell_type": "code",
   "execution_count": 18,
   "id": "34c77163",
   "metadata": {},
   "outputs": [],
   "source": [
    "type_lst = list(set(df['Service Request Type']))"
   ]
  },
  {
   "cell_type": "code",
   "execution_count": 19,
   "id": "c45573a8",
   "metadata": {},
   "outputs": [
    {
     "name": "stdout",
     "output_type": "stream",
     "text": [
      "92870\n"
     ]
    },
    {
     "data": {
      "text/plain": [
       "'Code concern - ccs'"
      ]
     },
     "execution_count": 19,
     "metadata": {},
     "output_type": "execute_result"
    }
   ],
   "source": [
    "count_lst = [list(df['Service Request Type']).count(x) for x in type_lst]\n",
    "print(max(count_lst))\n",
    "type_lst[count_lst.index(max(count_lst))]"
   ]
  },
  {
   "cell_type": "code",
   "execution_count": 20,
   "id": "c6d1f6a9",
   "metadata": {},
   "outputs": [
    {
     "data": {
      "text/plain": [
       "1"
      ]
     },
     "execution_count": 20,
     "metadata": {},
     "output_type": "execute_result"
    }
   ],
   "source": [
    "count_lst[type_lst.index('Bike share - trn')]"
   ]
  },
  {
   "cell_type": "code",
   "execution_count": 21,
   "id": "bc52406d",
   "metadata": {},
   "outputs": [
    {
     "data": {
      "text/plain": [
       "['Code Concern', 'CCS']"
      ]
     },
     "execution_count": 21,
     "metadata": {},
     "output_type": "execute_result"
    }
   ],
   "source": [
    "'Code Concern - CCS'.split(' - ')"
   ]
  },
  {
   "cell_type": "code",
   "execution_count": 22,
   "id": "f5b64478",
   "metadata": {},
   "outputs": [
    {
     "data": {
      "text/plain": [
       "173"
      ]
     },
     "execution_count": 22,
     "metadata": {},
     "output_type": "execute_result"
    }
   ],
   "source": [
    "df['Simple Service Request Type'] = df['Service Request Type'].map(lambda x: x.split(' - ')[0])\n",
    "len(set(df['Simple Service Request Type']))"
   ]
  },
  {
   "cell_type": "code",
   "execution_count": 23,
   "id": "78f1de9e",
   "metadata": {},
   "outputs": [],
   "source": [
    "simple_type_lst = set(df['Simple Service Request Type'])"
   ]
  },
  {
   "cell_type": "code",
   "execution_count": 24,
   "id": "1cb0f871",
   "metadata": {},
   "outputs": [],
   "source": [
    "simple_count_lst = [list(df['Simple Service Request Type']).count(x) for x in simple_type_lst]"
   ]
  },
  {
   "cell_type": "code",
   "execution_count": 25,
   "id": "e5107ca2",
   "metadata": {},
   "outputs": [
    {
     "data": {
      "text/plain": [
       "['Code concern',\n",
       " 'Sanitation roll cart maintenance/delivery',\n",
       " 'Sanitation missed garbage',\n",
       " 'Water/wastewater line locate',\n",
       " 'Traffic signal',\n",
       " 'Parking',\n",
       " 'Complaint/compliment',\n",
       " 'Sanitation same day missed collection',\n",
       " 'Dead animal pick up',\n",
       " 'Sanitation missed recycle']"
      ]
     },
     "execution_count": 25,
     "metadata": {},
     "output_type": "execute_result"
    }
   ],
   "source": [
    "[x for _, x in sorted(zip(simple_count_lst, simple_type_lst),reverse=True)][:10]"
   ]
  },
  {
   "cell_type": "code",
   "execution_count": 26,
   "id": "695390de",
   "metadata": {},
   "outputs": [],
   "source": [
    "import re"
   ]
  },
  {
   "cell_type": "code",
   "execution_count": 54,
   "id": "366b7f52",
   "metadata": {},
   "outputs": [],
   "source": [
    "def lat_long(x,index):\n",
    "    lat_long_lst = re.findall(\"[\\d]+.[\\d]+\",x)\n",
    "    try:\n",
    "        return lat_long_lst[index]\n",
    "    except:\n",
    "        return \"\"\n"
   ]
  },
  {
   "cell_type": "code",
   "execution_count": 55,
   "id": "f32a0abd",
   "metadata": {},
   "outputs": [
    {
     "ename": "ValueError",
     "evalue": "too many values to unpack (expected 2)",
     "output_type": "error",
     "traceback": [
      "\u001b[1;31m---------------------------------------------------------------------------\u001b[0m",
      "\u001b[1;31mValueError\u001b[0m                                Traceback (most recent call last)",
      "\u001b[1;32m<ipython-input-55-6aece3e80e81>\u001b[0m in \u001b[0;36m<module>\u001b[1;34m\u001b[0m\n\u001b[1;32m----> 1\u001b[1;33m \u001b[0mdf\u001b[0m\u001b[1;33m[\u001b[0m\u001b[1;34m'Lat'\u001b[0m\u001b[1;33m]\u001b[0m\u001b[1;33m,\u001b[0m\u001b[0mdf\u001b[0m\u001b[1;33m[\u001b[0m\u001b[1;34m'Long'\u001b[0m\u001b[1;33m]\u001b[0m \u001b[1;33m=\u001b[0m \u001b[0mdf\u001b[0m\u001b[1;33m[\u001b[0m\u001b[1;34m'Lat_Long Location'\u001b[0m\u001b[1;33m]\u001b[0m\u001b[1;33m.\u001b[0m\u001b[0mmap\u001b[0m\u001b[1;33m(\u001b[0m\u001b[0mlat_long\u001b[0m\u001b[1;33m)\u001b[0m\u001b[1;33m\u001b[0m\u001b[1;33m\u001b[0m\u001b[0m\n\u001b[0m",
      "\u001b[1;31mValueError\u001b[0m: too many values to unpack (expected 2)"
     ]
    }
   ],
   "source": [
    "df['Lat'],df['Long'] = df['Lat_Long Location'].map(lat_long)"
   ]
  },
  {
   "cell_type": "code",
   "execution_count": 49,
   "id": "ad3be9d6",
   "metadata": {},
   "outputs": [
    {
     "data": {
      "text/plain": [
       "['33.00277709316475000', '96.84332884334131000']"
      ]
     },
     "execution_count": 49,
     "metadata": {},
     "output_type": "execute_result"
    }
   ],
   "source": [
    "df['Lat_Long Location'].map(lambda x: re.findall(\"[\\d]+.[\\d]+\",x))[0]"
   ]
  },
  {
   "cell_type": "code",
   "execution_count": null,
   "id": "65bd96c0",
   "metadata": {},
   "outputs": [],
   "source": []
  }
 ],
 "metadata": {
  "kernelspec": {
   "display_name": "Python 3",
   "language": "python",
   "name": "python3"
  },
  "language_info": {
   "codemirror_mode": {
    "name": "ipython",
    "version": 3
   },
   "file_extension": ".py",
   "mimetype": "text/x-python",
   "name": "python",
   "nbconvert_exporter": "python",
   "pygments_lexer": "ipython3",
   "version": "3.8.8"
  }
 },
 "nbformat": 4,
 "nbformat_minor": 5
}
